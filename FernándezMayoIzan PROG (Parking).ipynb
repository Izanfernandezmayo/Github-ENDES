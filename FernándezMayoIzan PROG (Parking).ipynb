{
 "cells": [
  {
   "cell_type": "code",
   "execution_count": null,
   "metadata": {},
   "outputs": [
    {
     "name": "stdout",
     "output_type": "stream",
     "text": [
      "El importe a pagar es: 6.10 €\n"
     ]
    }
   ],
   "source": [
    "#El ayuntamiento de Guadalajara acaba de contruir un nuevo parkin público\n",
    "#y necesita un programa que calcule el importe a pagar por el usuario.\n",
    "#Entre corruptelas y mariscadas varias se han quedado sin presupuesto para el programador, así que te han encargado a ti esta tarea.\n",
    "#Escribe un programa en python que tenga como entrada la hora de entrada y la hora de salida, calcule el importe total sabiendo que la hora sale a\n",
    "# 3.40€ y a partir de la segunda a 1.80€ la hora.\n",
    "#El formato de hora tiene que estar en \"hh:mm:ss\" evidentemente hay que tener en cuenta\n",
    "#los minutos y los segundos\n",
    "#CONDICIÓN: La diferencia entre la hora de entrada y salida tiene que ser calculada\n",
    "#con una función.\n",
    "\n",
    "from datetime import datetime\n",
    "\n",
    "def dif(he, hs):\n",
    "    formato = \"%H:%M:%S\"\n",
    "    e = datetime.strptime(he, formato)\n",
    "    s = datetime.strptime(hs, formato)\n",
    "    diferencia = s - e\n",
    "    dif = diferencia.total_seconds() / 3600\n",
    "    return dif\n",
    "\n",
    "def importe(he, hs):\n",
    "    h = dif(he, hs)\n",
    "    if h <= 1:\n",
    "        importe = 3.40\n",
    "    else:\n",
    "        importe = 3.40 + (h - 1) * 1.80\n",
    "    return round(importe, 2)\n",
    "\n",
    "he = input(\"introduce la hora de entrada (formato: xx:xx:xx)\")\n",
    "hs = input(\"introduce la hora de salida (formato: xx:xx:xx)\")\n",
    "importe_total = importe(he, hs)\n",
    "print(f\"El importe a pagar es: {importe_total:.2f} €\")"
   ]
  }
 ],
 "metadata": {
  "kernelspec": {
   "display_name": "Python 3",
   "language": "python",
   "name": "python3"
  },
  "language_info": {
   "codemirror_mode": {
    "name": "ipython",
    "version": 3
   },
   "file_extension": ".py",
   "mimetype": "text/x-python",
   "name": "python",
   "nbconvert_exporter": "python",
   "pygments_lexer": "ipython3",
   "version": "3.13.0"
  }
 },
 "nbformat": 4,
 "nbformat_minor": 2
}
